{
 "cells": [
  {
   "cell_type": "code",
   "execution_count": 1,
   "metadata": {
    "collapsed": true
   },
   "outputs": [],
   "source": [
    "import cv2"
   ]
  },
  {
   "cell_type": "code",
   "execution_count": 2,
   "metadata": {
    "collapsed": true
   },
   "outputs": [],
   "source": [
    "import numpy as np\n"
   ]
  },
  {
   "cell_type": "code",
   "execution_count": 3,
   "metadata": {
    "collapsed": false
   },
   "outputs": [],
   "source": [
    "image = cv2.imread('traffic_red.jpg')"
   ]
  },
  {
   "cell_type": "code",
   "execution_count": 5,
   "metadata": {
    "collapsed": false
   },
   "outputs": [],
   "source": [
    "hsv = cv2.cvtColor(image,cv2.COLOR_BGR2HSV)"
   ]
  },
  {
   "cell_type": "code",
   "execution_count": 6,
   "metadata": {
    "collapsed": true
   },
   "outputs": [],
   "source": [
    "red_bound = ([17, 15, 100], [50, 56, 200])\n",
    "green_bound = ([86, 31, 4], [220, 88, 50])"
   ]
  },
  {
   "cell_type": "code",
   "execution_count": 7,
   "metadata": {
    "collapsed": true
   },
   "outputs": [],
   "source": [
    "# define the list of boundaries\n",
    "boundaries = [red_bound,green_bound]"
   ]
  },
  {
   "cell_type": "code",
   "execution_count": 9,
   "metadata": {
    "collapsed": false
   },
   "outputs": [],
   "source": [
    "# loop over the boundaries\n",
    "# question:\n",
    "# how to spit out red,green color?\n",
    "# reference: https://www.pyimagesearch.com/2014/08/04/opencv-python-color-detection/\n",
    "# also, can it detect all at once for either red or green at the same time?\n",
    "for (lower, upper) in boundaries:\n",
    "    # create NumPy arrays from the boundaries\n",
    "    lower = np.array(lower, dtype = \"uint8\")\n",
    "\n",
    "    upper = np.array(upper, dtype = \"uint8\")\n",
    "\n",
    "    # find the colors within the specified boundaries and apply\n",
    "    # the mask\n",
    "    mask = cv2.inRange(image, lower, upper)\n",
    "    output = cv2.bitwise_and(image, image, mask = mask)\n",
    "    # show the images\n",
    "    cv2.imshow(\"images\", np.hstack([image, output]))\n",
    "    cv2.waitKey(0)"
   ]
  },
  {
   "cell_type": "code",
   "execution_count": 10,
   "metadata": {
    "collapsed": true
   },
   "outputs": [],
   "source": [
    "    lower_r = np.array(red_bound[0], dtype = \"uint8\")\n",
    "    upper_r = np.array(red_bound[1], dtype = \"uint8\")"
   ]
  },
  {
   "cell_type": "code",
   "execution_count": 11,
   "metadata": {
    "collapsed": true
   },
   "outputs": [],
   "source": [
    "    lower_g = np.array(green_bound[0], dtype = \"uint8\")\n",
    "    upper_g = np.array(green_bound[1], dtype = \"uint8\")"
   ]
  },
  {
   "cell_type": "code",
   "execution_count": 16,
   "metadata": {
    "collapsed": true
   },
   "outputs": [],
   "source": [
    "    mask_r = cv2.inRange(image, lower_r, upper_r)\n",
    "    mask_g = cv2.inRange(image, lower_g, upper_g)  "
   ]
  },
  {
   "cell_type": "code",
   "execution_count": 17,
   "metadata": {
    "collapsed": true
   },
   "outputs": [],
   "source": [
    "output_r = cv2.bitwise_and(image,image,mask = mask_r)\n",
    "output_g = cv2.bitwise_and(image,image, mask = mask_g)"
   ]
  },
  {
   "cell_type": "code",
   "execution_count": 18,
   "metadata": {
    "collapsed": false
   },
   "outputs": [],
   "source": [
    "output = cv2.bitwise_or(output_r,output_g)\n"
   ]
  },
  {
   "cell_type": "code",
   "execution_count": null,
   "metadata": {
    "collapsed": false
   },
   "outputs": [],
   "source": [
    "    cv2.imshow(\"images\", np.hstack([image, output]))\n",
    "    cv2.waitKey(0)"
   ]
  },
  {
   "cell_type": "code",
   "execution_count": null,
   "metadata": {
    "collapsed": true
   },
   "outputs": [],
   "source": []
  }
 ],
 "metadata": {
  "kernelspec": {
   "display_name": "Python 3",
   "language": "python",
   "name": "python3"
  },
  "language_info": {
   "codemirror_mode": {
    "name": "ipython",
    "version": 3
   },
   "file_extension": ".py",
   "mimetype": "text/x-python",
   "name": "python",
   "nbconvert_exporter": "python",
   "pygments_lexer": "ipython3",
   "version": "3.5.2"
  }
 },
 "nbformat": 4,
 "nbformat_minor": 2
}
