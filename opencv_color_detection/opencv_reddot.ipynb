{
 "cells": [
  {
   "cell_type": "code",
   "execution_count": null,
   "metadata": {
    "collapsed": true
   },
   "outputs": [],
   "source": [
    "#https://www.hackster.io/WolfxPac/colour-detection-using-opencv-python-8cbbe0\n",
    "#https://github.com/sol-prog/OpenCV-red-circle-detection\n",
    "#https://solarianprogrammer.com/2015/05/08/detect-red-circles-image-using-opencv/\n",
    "#https://github.com/robertglas/OpenCV-red-circle-detection/blob/master/opencv-reddot.py\n"
   ]
  },
  {
   "cell_type": "code",
   "execution_count": 18,
   "metadata": {
    "collapsed": true
   },
   "outputs": [],
   "source": [
    "import cv2\n",
    "import numpy as np\n",
    "bgr_image = cv2.imread('traffic_green.jpg')"
   ]
  },
  {
   "cell_type": "code",
   "execution_count": 19,
   "metadata": {
    "collapsed": true
   },
   "outputs": [],
   "source": [
    "orig_image = bgr_image.copy()\n",
    "bgr_image = cv2.medianBlur(bgr_image, 3)"
   ]
  },
  {
   "cell_type": "code",
   "execution_count": 20,
   "metadata": {
    "collapsed": true
   },
   "outputs": [],
   "source": [
    "# Convert input image to HSV\n",
    "hsv_image = cv2.cvtColor(bgr_image, cv2.COLOR_BGR2HSV)"
   ]
  },
  {
   "cell_type": "code",
   "execution_count": 21,
   "metadata": {
    "collapsed": true
   },
   "outputs": [],
   "source": [
    "# Threshold the HSV image, keep only the red pixels\n",
    "lower_red_hue_range = cv2.inRange(hsv_image, (0, 100, 100), (10, 255, 255))\n",
    "upper_red_hue_range = cv2.inRange(hsv_image, (160, 100, 100), (179, 255, 255))"
   ]
  },
  {
   "cell_type": "code",
   "execution_count": 22,
   "metadata": {
    "collapsed": true
   },
   "outputs": [],
   "source": [
    "# Threshold the HSV image, keep only the yellow pixels\n",
    "#lower_yellow_hue_range = cv2.inRange(hsv_image, (0, 100, 100), (10, 255, 255))\n",
    "#upper_yellow_hue_range = cv2.inRange(hsv_image, (160, 100, 100), (179, 255, 255))"
   ]
  },
  {
   "cell_type": "code",
   "execution_count": 23,
   "metadata": {
    "collapsed": true
   },
   "outputs": [],
   "source": [
    "# Combine the above two images\n",
    "red_hue_image = cv2.addWeighted(lower_red_hue_range, 1.0, upper_red_hue_range, 1.0, 0.0)\n",
    "red_hue_image = cv2.GaussianBlur(red_hue_image, (9, 9), 2, 2)"
   ]
  },
  {
   "cell_type": "code",
   "execution_count": 24,
   "metadata": {
    "collapsed": true
   },
   "outputs": [],
   "source": [
    "# Use the Hough transform to detect circles in the combined threshold image\n",
    "circles = cv2.HoughCircles(red_hue_image, cv2.HOUGH_GRADIENT, 1, red_hue_image.shape[0] / 8.0, 100, 20, 1, 1)"
   ]
  },
  {
   "cell_type": "code",
   "execution_count": 25,
   "metadata": {
    "collapsed": false
   },
   "outputs": [
    {
     "ename": "IndexError",
     "evalue": "invalid index to scalar variable.",
     "output_type": "error",
     "traceback": [
      "\u001b[1;31m---------------------------------------------------------------------------\u001b[0m",
      "\u001b[1;31mIndexError\u001b[0m                                Traceback (most recent call last)",
      "\u001b[1;32m<ipython-input-25-1193c8c1a535>\u001b[0m in \u001b[0;36m<module>\u001b[1;34m\u001b[0m\n\u001b[0;32m      5\u001b[0m \u001b[1;32melse\u001b[0m\u001b[1;33m:\u001b[0m\u001b[1;33m\u001b[0m\u001b[0m\n\u001b[0;32m      6\u001b[0m     \u001b[1;32mfor\u001b[0m \u001b[0mcurrent_circle\u001b[0m \u001b[1;32min\u001b[0m \u001b[0mcircles\u001b[0m\u001b[1;33m[\u001b[0m\u001b[1;36m0\u001b[0m\u001b[1;33m,\u001b[0m\u001b[1;33m:\u001b[0m\u001b[1;33m]\u001b[0m\u001b[1;33m:\u001b[0m\u001b[1;33m\u001b[0m\u001b[0m\n\u001b[1;32m----> 7\u001b[1;33m         \u001b[0mcenter\u001b[0m \u001b[1;33m=\u001b[0m \u001b[1;33m(\u001b[0m\u001b[0mint\u001b[0m\u001b[1;33m(\u001b[0m\u001b[0mcurrent_circle\u001b[0m\u001b[1;33m[\u001b[0m\u001b[1;36m0\u001b[0m\u001b[1;33m]\u001b[0m\u001b[1;33m)\u001b[0m\u001b[1;33m,\u001b[0m \u001b[0mint\u001b[0m\u001b[1;33m(\u001b[0m\u001b[0mcurrent_circle\u001b[0m\u001b[1;33m[\u001b[0m\u001b[1;36m1\u001b[0m\u001b[1;33m]\u001b[0m\u001b[1;33m)\u001b[0m\u001b[1;33m)\u001b[0m\u001b[1;33m\u001b[0m\u001b[0m\n\u001b[0m\u001b[0;32m      8\u001b[0m         \u001b[0mradius\u001b[0m \u001b[1;33m=\u001b[0m \u001b[0mint\u001b[0m\u001b[1;33m(\u001b[0m\u001b[0mcurrent_circle\u001b[0m\u001b[1;33m[\u001b[0m\u001b[1;36m2\u001b[0m\u001b[1;33m]\u001b[0m\u001b[1;33m)\u001b[0m\u001b[1;33m\u001b[0m\u001b[0m\n\u001b[0;32m      9\u001b[0m         \u001b[0mcv2\u001b[0m\u001b[1;33m.\u001b[0m\u001b[0mcircle\u001b[0m\u001b[1;33m(\u001b[0m\u001b[0morig_image\u001b[0m\u001b[1;33m,\u001b[0m \u001b[0mcenter\u001b[0m\u001b[1;33m,\u001b[0m \u001b[0mradius\u001b[0m\u001b[1;33m,\u001b[0m \u001b[1;33m(\u001b[0m\u001b[1;36m0\u001b[0m\u001b[1;33m,\u001b[0m \u001b[1;36m255\u001b[0m\u001b[1;33m,\u001b[0m \u001b[1;36m0\u001b[0m\u001b[1;33m)\u001b[0m\u001b[1;33m,\u001b[0m \u001b[1;36m5\u001b[0m\u001b[1;33m)\u001b[0m\u001b[1;33m\u001b[0m\u001b[0m\n",
      "\u001b[1;31mIndexError\u001b[0m: invalid index to scalar variable."
     ]
    }
   ],
   "source": [
    "# Loop over all detected circles and outline them on the original image\n",
    "if circles is None or len(circles) == 0:\n",
    "    print('No circles in specified color were found! Exiting.')\n",
    "    exit()\n",
    "else:\n",
    "    for current_circle in circles[0,:]:\n",
    "        center = (int(current_circle[0]), int(current_circle[1]))\n",
    "        radius = int(current_circle[2])\n",
    "        cv2.circle(orig_image, center, radius, (0, 255, 0), 5)\n",
    "        # Show images\n",
    "        cv2.namedWindow(\"Threshold lower image\", cv2.WINDOW_AUTOSIZE)\n",
    "        cv2.imshow(\"Threshold lower image\", lower_red_hue_range)\n",
    "        cv2.namedWindow(\"Threshold upper image\", cv2.WINDOW_AUTOSIZE)\n",
    "        cv2.imshow(\"Threshold upper image\", upper_red_hue_range)\n",
    "        cv2.namedWindow(\"Combined threshold images\", cv2.WINDOW_AUTOSIZE)\n",
    "        cv2.imshow(\"Combined threshold images\", red_hue_image)\n",
    "        cv2.namedWindow(\"Detected red circles on the input image\", cv2.WINDOW_AUTOSIZE)\n",
    "        cv2.imshow(\"Detected red circles on the input image\", orig_image)\n",
    "        print('Now showing the results in openCV windows. Press any key to exit.')\n",
    "        cv2.waitKey(0)"
   ]
  },
  {
   "cell_type": "code",
   "execution_count": 26,
   "metadata": {
    "collapsed": false
   },
   "outputs": [
    {
     "name": "stdout",
     "output_type": "stream",
     "text": [
      "it is other than green\n"
     ]
    }
   ],
   "source": [
    "# Loop over all detected circles and outline them on the original image\n",
    "if circles is None or len(circles) == 0:\n",
    "    print('No circles in specified color were found! Exiting.')\n",
    "    exit()\n",
    "else:\n",
    "    print('it is other than green')"
   ]
  },
  {
   "cell_type": "code",
   "execution_count": null,
   "metadata": {
    "collapsed": true
   },
   "outputs": [],
   "source": []
  }
 ],
 "metadata": {
  "kernelspec": {
   "display_name": "Python 3",
   "language": "python",
   "name": "python3"
  },
  "language_info": {
   "codemirror_mode": {
    "name": "ipython",
    "version": 3
   },
   "file_extension": ".py",
   "mimetype": "text/x-python",
   "name": "python",
   "nbconvert_exporter": "python",
   "pygments_lexer": "ipython3",
   "version": "3.5.2"
  }
 },
 "nbformat": 4,
 "nbformat_minor": 2
}
